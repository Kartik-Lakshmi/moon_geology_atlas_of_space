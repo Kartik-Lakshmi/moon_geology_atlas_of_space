{
 "cells": [
  {
   "cell_type": "code",
   "execution_count": 1,
   "metadata": {},
   "outputs": [],
   "source": [
    "import pandas as pd\n",
    "import shapefile as shp\n",
    "import cartopy.io.shapereader as shpreader"
   ]
  },
  {
   "cell_type": "code",
   "execution_count": 2,
   "metadata": {},
   "outputs": [
    {
     "name": "stdout",
     "output_type": "stream",
     "text": [
      "shapefile 2.0.1\n",
      "watermark 1.8.1\n",
      "cartopy   0.17.0\n",
      "pandas    0.23.4\n",
      "ELEANOR LUTZ 2019-08-24 \n",
      "\n",
      "CPython 3.7.1\n",
      "IPython 7.2.0\n",
      "\n",
      "compiler   : MSC v.1900 64 bit (AMD64)\n",
      "system     : Windows\n",
      "release    : 10\n",
      "machine    : AMD64\n",
      "processor  : Intel64 Family 6 Model 63 Stepping 2, GenuineIntel\n",
      "CPU cores  : 12\n",
      "interpreter: 64bit\n"
     ]
    }
   ],
   "source": [
    "# Watermark is not required for this code, but is included for information. \n",
    "import watermark\n",
    "%load_ext watermark\n",
    "%watermark -a \"ELEANOR LUTZ\" -d -v -iv -m"
   ]
  },
  {
   "cell_type": "code",
   "execution_count": 3,
   "metadata": {},
   "outputs": [],
   "source": [
    "# Labels used by the USGS to demark each of the different datasets\n",
    "datasets = ['I-0703', 'I-0948', 'I-1034', 'I-1047', 'I-1062', 'I-1162']"
   ]
  },
  {
   "cell_type": "code",
   "execution_count": 4,
   "metadata": {},
   "outputs": [
    {
     "data": {
      "text/html": [
       "<div>\n",
       "<style scoped>\n",
       "    .dataframe tbody tr th:only-of-type {\n",
       "        vertical-align: middle;\n",
       "    }\n",
       "\n",
       "    .dataframe tbody tr th {\n",
       "        vertical-align: top;\n",
       "    }\n",
       "\n",
       "    .dataframe thead th {\n",
       "        text-align: right;\n",
       "    }\n",
       "</style>\n",
       "<table border=\"1\" class=\"dataframe\">\n",
       "  <thead>\n",
       "    <tr style=\"text-align: right;\">\n",
       "      <th></th>\n",
       "      <th>UnitSymbol</th>\n",
       "      <th>UnitName</th>\n",
       "      <th>MajorGroup</th>\n",
       "      <th>UnitDescri</th>\n",
       "      <th>Data_source</th>\n",
       "      <th>Duplicated</th>\n",
       "    </tr>\n",
       "  </thead>\n",
       "  <tbody>\n",
       "    <tr>\n",
       "      <th>86</th>\n",
       "      <td>cf</td>\n",
       "      <td></td>\n",
       "      <td></td>\n",
       "      <td></td>\n",
       "      <td>I-1062</td>\n",
       "      <td>False</td>\n",
       "    </tr>\n",
       "    <tr>\n",
       "      <th>133</th>\n",
       "      <td>INbl</td>\n",
       "      <td>Undivided Lineated Basin Material</td>\n",
       "      <td>Basin Materials</td>\n",
       "      <td>Undivided Lineated Basin Material, Imbrian and...</td>\n",
       "      <td>I-1062</td>\n",
       "      <td>False</td>\n",
       "    </tr>\n",
       "    <tr>\n",
       "      <th>23</th>\n",
       "      <td>Ia</td>\n",
       "      <td>Alpes Formation</td>\n",
       "      <td>Basin Materials</td>\n",
       "      <td>Alpes Formation, Imbrian System</td>\n",
       "      <td>I-1062</td>\n",
       "      <td>False</td>\n",
       "    </tr>\n",
       "    <tr>\n",
       "      <th>70</th>\n",
       "      <td>If</td>\n",
       "      <td>Fra Mauro Formation</td>\n",
       "      <td>Basin Materials</td>\n",
       "      <td>Fra Mauro Formation, Imbrian System</td>\n",
       "      <td>I-1062</td>\n",
       "      <td>True</td>\n",
       "    </tr>\n",
       "    <tr>\n",
       "      <th>822</th>\n",
       "      <td>Iic</td>\n",
       "      <td>Material of Imbrium-Basin Secondary-Impact Cra...</td>\n",
       "      <td>Basin Materials</td>\n",
       "      <td>Material of Imbrium-Basin Secondary-Impact Cra...</td>\n",
       "      <td>I-1162</td>\n",
       "      <td>False</td>\n",
       "    </tr>\n",
       "  </tbody>\n",
       "</table>\n",
       "</div>"
      ],
      "text/plain": [
       "    UnitSymbol                                           UnitName  \\\n",
       "86          cf                                                      \n",
       "133       INbl                  Undivided Lineated Basin Material   \n",
       "23          Ia                                    Alpes Formation   \n",
       "70          If                                Fra Mauro Formation   \n",
       "822        Iic  Material of Imbrium-Basin Secondary-Impact Cra...   \n",
       "\n",
       "          MajorGroup                                         UnitDescri  \\\n",
       "86                                                                        \n",
       "133  Basin Materials  Undivided Lineated Basin Material, Imbrian and...   \n",
       "23   Basin Materials                    Alpes Formation, Imbrian System   \n",
       "70   Basin Materials                Fra Mauro Formation, Imbrian System   \n",
       "822  Basin Materials  Material of Imbrium-Basin Secondary-Impact Cra...   \n",
       "\n",
       "    Data_source  Duplicated  \n",
       "86       I-1062       False  \n",
       "133      I-1062       False  \n",
       "23       I-1062       False  \n",
       "70       I-1062        True  \n",
       "822      I-1162       False  "
      ]
     },
     "metadata": {},
     "output_type": "display_data"
    },
    {
     "name": "stdout",
     "output_type": "stream",
     "text": [
      "87 duplicated symbols\n",
      "107 unit symbols that are only found in one dataset\n"
     ]
    }
   ],
   "source": [
    "# Create a master dataframe containing all geologic unit descriptions and symbols\n",
    "# This dataframe is used to assign colors for each geologic unit. \n",
    "totaldf = pd.DataFrame()\n",
    "\n",
    "for s in datasets:\n",
    "    s2 = s.replace('-','_')\n",
    "    fname = \"A:/gitrepos/geology_atlas_of_space/data/Lunar_Geologic_GIS_Renovation_March2013/\"+\\\n",
    "        s+\"/Shapefiles/\"+s2+\"_Geology.shp\"\n",
    "    shp = shpreader.Reader(fname)\n",
    "    unitsymbols, unitnames, majorgroups, unitdescs = [], [], [], []\n",
    "    for record, state in zip(shp.records(), shp.geometries()):\n",
    "        unitsymbols.append(record.attributes['UnitSymbol'])\n",
    "        try:\n",
    "            unitnames.append(record.attributes['UnitName'])\n",
    "        except:\n",
    "            unitnames.append(record.attributes['UnitName_1'])\n",
    "        majorgroups.append(record.attributes['MajorGroup'])\n",
    "        unitdescs.append(record.attributes['UnitDescri'])\n",
    "        \n",
    "    tempdf = pd.DataFrame.from_dict({'UnitSymbol':unitsymbols, 'UnitName':unitnames,\n",
    "                                     'MajorGroup':majorgroups, 'UnitDescri':unitdescs})\n",
    "    tempdf.drop_duplicates(subset='UnitSymbol', inplace=True, keep='first')\n",
    "    tempdf['Data_source'] = s\n",
    "    totaldf = pd.concat([totaldf, tempdf])\n",
    "    \n",
    "totaldf['Duplicated'] = totaldf.duplicated(subset='UnitSymbol')\n",
    "totaldf.sort_values(by=['MajorGroup', 'UnitSymbol'], inplace=True)\n",
    "totaldf.dropna(subset=['UnitSymbol'], inplace=True)\n",
    "totaldf = totaldf[totaldf['UnitSymbol'].str.len() > 0]\n",
    "totaldf.to_csv('./data/unit_descriptions_from_files.csv', index=False)\n",
    "\n",
    "display(totaldf.head())\n",
    "print(len(totaldf[totaldf['Duplicated'] == True]), 'duplicated symbols')\n",
    "print(len(totaldf[totaldf['Duplicated'] == False]), 'unit symbols that are only found in one dataset')"
   ]
  },
  {
   "cell_type": "code",
   "execution_count": null,
   "metadata": {},
   "outputs": [],
   "source": []
  }
 ],
 "metadata": {
  "kernelspec": {
   "display_name": "Python 3",
   "language": "python",
   "name": "python3"
  },
  "language_info": {
   "codemirror_mode": {
    "name": "ipython",
    "version": 3
   },
   "file_extension": ".py",
   "mimetype": "text/x-python",
   "name": "python",
   "nbconvert_exporter": "python",
   "pygments_lexer": "ipython3",
   "version": "3.7.1"
  }
 },
 "nbformat": 4,
 "nbformat_minor": 2
}
